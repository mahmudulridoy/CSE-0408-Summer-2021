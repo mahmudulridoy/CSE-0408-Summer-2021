{
 "cells": [
  {
   "cell_type": "code",
   "execution_count": 14,
   "id": "828ed79a",
   "metadata": {},
   "outputs": [],
   "source": [
    "import numpy as np\n",
    "import pandas as pd"
   ]
  },
  {
   "cell_type": "code",
   "execution_count": 15,
   "id": "470a2277",
   "metadata": {},
   "outputs": [
    {
     "data": {
      "text/html": [
       "<div>\n",
       "<style scoped>\n",
       "    .dataframe tbody tr th:only-of-type {\n",
       "        vertical-align: middle;\n",
       "    }\n",
       "\n",
       "    .dataframe tbody tr th {\n",
       "        vertical-align: top;\n",
       "    }\n",
       "\n",
       "    .dataframe thead th {\n",
       "        text-align: right;\n",
       "    }\n",
       "</style>\n",
       "<table border=\"1\" class=\"dataframe\">\n",
       "  <thead>\n",
       "    <tr style=\"text-align: right;\">\n",
       "      <th></th>\n",
       "      <th>Speed(km/h)</th>\n",
       "      <th>Road_Quality</th>\n",
       "      <th>Accident</th>\n",
       "    </tr>\n",
       "  </thead>\n",
       "  <tbody>\n",
       "    <tr>\n",
       "      <th>0</th>\n",
       "      <td>85</td>\n",
       "      <td>Bad</td>\n",
       "      <td>Yes</td>\n",
       "    </tr>\n",
       "    <tr>\n",
       "      <th>1</th>\n",
       "      <td>80</td>\n",
       "      <td>Bad</td>\n",
       "      <td>Yes</td>\n",
       "    </tr>\n",
       "    <tr>\n",
       "      <th>2</th>\n",
       "      <td>30</td>\n",
       "      <td>Good</td>\n",
       "      <td>No</td>\n",
       "    </tr>\n",
       "    <tr>\n",
       "      <th>3</th>\n",
       "      <td>25</td>\n",
       "      <td>Good</td>\n",
       "      <td>No</td>\n",
       "    </tr>\n",
       "    <tr>\n",
       "      <th>4</th>\n",
       "      <td>40</td>\n",
       "      <td>Bad</td>\n",
       "      <td>No</td>\n",
       "    </tr>\n",
       "    <tr>\n",
       "      <th>5</th>\n",
       "      <td>20</td>\n",
       "      <td>Bad</td>\n",
       "      <td>No</td>\n",
       "    </tr>\n",
       "    <tr>\n",
       "      <th>6</th>\n",
       "      <td>50</td>\n",
       "      <td>Bad</td>\n",
       "      <td>No</td>\n",
       "    </tr>\n",
       "    <tr>\n",
       "      <th>7</th>\n",
       "      <td>120</td>\n",
       "      <td>Bad</td>\n",
       "      <td>Yes</td>\n",
       "    </tr>\n",
       "    <tr>\n",
       "      <th>8</th>\n",
       "      <td>35</td>\n",
       "      <td>Bad</td>\n",
       "      <td>No</td>\n",
       "    </tr>\n",
       "    <tr>\n",
       "      <th>9</th>\n",
       "      <td>260</td>\n",
       "      <td>Good</td>\n",
       "      <td>Yes</td>\n",
       "    </tr>\n",
       "    <tr>\n",
       "      <th>10</th>\n",
       "      <td>90</td>\n",
       "      <td>Good</td>\n",
       "      <td>No</td>\n",
       "    </tr>\n",
       "  </tbody>\n",
       "</table>\n",
       "</div>"
      ],
      "text/plain": [
       "    Speed(km/h) Road_Quality Accident\n",
       "0            85          Bad      Yes\n",
       "1            80          Bad      Yes\n",
       "2            30         Good       No\n",
       "3            25         Good       No\n",
       "4            40          Bad       No\n",
       "5            20          Bad       No\n",
       "6            50          Bad       No\n",
       "7           120          Bad      Yes\n",
       "8            35          Bad       No\n",
       "9           260         Good      Yes\n",
       "10           90         Good       No"
      ]
     },
     "execution_count": 15,
     "metadata": {},
     "output_type": "execute_result"
    }
   ],
   "source": [
    "dt.isnull().any()\n",
    "fillup=\"No\"\n",
    "dt.Accident=dt.Accident.fillna(fillup)\n",
    "dt\n"
   ]
  },
  {
   "cell_type": "code",
   "execution_count": 16,
   "id": "44b3705d",
   "metadata": {},
   "outputs": [],
   "source": [
    "from sklearn import preprocessing\n",
    "from sklearn.neighbors import KNeighborsClassifier"
   ]
  },
  {
   "cell_type": "code",
   "execution_count": 17,
   "id": "e889f985",
   "metadata": {},
   "outputs": [
    {
     "name": "stdout",
     "output_type": "stream",
     "text": [
      "[1 1 0 0 0 0 0 1 0 1 0]\n",
      "[0 0 1 1 0 0 0 0 0 1 1]\n"
     ]
    }
   ],
   "source": [
    "Speed=(80,80,30,25,40,20,50,120,35,260,90)\n",
    "Road_Quality=[\"Bad\",\"Bad\",\"Good\",\"Good\",\"Bad\",\"Bad\",\"Bad\",\"Bad\",\"Bad\",\"Good\",\"Good\"]\n",
    "Accident=[\"Yes\",\"Yes\",\"No\",\"No\",\"No\",\"No\",\"No\",\"Yes\",\"No\",\"Yes\",\"No\"]\n",
    "encode = preprocessing.LabelEncoder()\n",
    "Encoded_Accident = encode.fit_transform(Accident)\n",
    "Encoded_Road_Quality = encode.fit_transform(Road_Quality)\n",
    "print(Encoded_Accident)\n",
    "print(Encoded_Road_Quality)"
   ]
  },
  {
   "cell_type": "code",
   "execution_count": 18,
   "id": "8d32e631",
   "metadata": {},
   "outputs": [
    {
     "data": {
      "text/plain": [
       "[(80, 0),\n",
       " (80, 0),\n",
       " (30, 1),\n",
       " (25, 1),\n",
       " (40, 0),\n",
       " (20, 0),\n",
       " (50, 0),\n",
       " (120, 0),\n",
       " (35, 0),\n",
       " (260, 1),\n",
       " (90, 1)]"
      ]
     },
     "execution_count": 18,
     "metadata": {},
     "output_type": "execute_result"
    }
   ],
   "source": [
    "\n",
    "f = list(zip(Speed,Encoded_Road_Quality))\n",
    "f"
   ]
  },
  {
   "cell_type": "code",
   "execution_count": 19,
   "id": "e52bf8aa",
   "metadata": {},
   "outputs": [
    {
     "data": {
      "text/plain": [
       "KNeighborsClassifier(n_neighbors=6)"
      ]
     },
     "execution_count": 19,
     "metadata": {},
     "output_type": "execute_result"
    }
   ],
   "source": [
    "model = KNeighborsClassifier(n_neighbors=6)\n",
    "model.fit(f,Encoded_Accident)"
   ]
  },
  {
   "cell_type": "code",
   "execution_count": 20,
   "id": "12d5986e",
   "metadata": {},
   "outputs": [
    {
     "name": "stdout",
     "output_type": "stream",
     "text": [
      "KNN prediction: \n",
      " 0 for Yes and 1 for No\n",
      "[0]\n"
     ]
    }
   ],
   "source": [
    "prediction = model.predict([[100,0]])\n",
    "print(\"KNN prediction: \\n 0 for Yes and 1 for No\")\n",
    "print(prediction)"
   ]
  },
  {
   "cell_type": "code",
   "execution_count": 21,
   "id": "7698d9a1",
   "metadata": {},
   "outputs": [
    {
     "name": "stdout",
     "output_type": "stream",
     "text": [
      "Accuracy= \n",
      "72.72727272727273\n"
     ]
    }
   ],
   "source": [
    "\n",
    "print(\"Accuracy= \")\n",
    "acc=(model.score(f,Encoded_Accident))*100\n",
    "print(acc)\n"
   ]
  }
 ],
 "metadata": {
  "kernelspec": {
   "display_name": "Python 3",
   "language": "python",
   "name": "python3"
  },
  "language_info": {
   "codemirror_mode": {
    "name": "ipython",
    "version": 3
   },
   "file_extension": ".py",
   "mimetype": "text/x-python",
   "name": "python",
   "nbconvert_exporter": "python",
   "pygments_lexer": "ipython3",
   "version": "3.8.8"
  }
 },
 "nbformat": 4,
 "nbformat_minor": 5
}
